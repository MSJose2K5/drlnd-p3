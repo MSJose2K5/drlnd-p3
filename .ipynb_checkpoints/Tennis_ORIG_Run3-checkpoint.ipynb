{
 "cells": [
  {
   "cell_type": "markdown",
   "metadata": {},
   "source": [
    "# Continuous Control\n",
    "\n",
    "---\n",
    "\n",
    "In this notebook, you will learn how to use the Unity ML-Agents environment for the second project of the [Deep Reinforcement Learning Nanodegree](https://www.udacity.com/course/deep-reinforcement-learning-nanodegree--nd893) program.\n",
    "\n",
    "### 1. Start the Environment\n",
    "\n",
    "We begin by importing the necessary packages.  If the code cell below returns an error, please revisit the project instructions to double-check that you have installed [Unity ML-Agents](https://github.com/Unity-Technologies/ml-agents/blob/master/docs/Installation.md) and [NumPy](http://www.numpy.org/)."
   ]
  },
  {
   "cell_type": "code",
   "execution_count": 1,
   "metadata": {},
   "outputs": [],
   "source": [
    "from maddpg_agent import Agent\n",
    "from collections import deque\n",
    "import matplotlib.pyplot as plt\n",
    "import numpy as np\n",
    "import random\n",
    "import time\n",
    "import torch\n",
    "from unityagents import UnityEnvironment\n",
    "\n",
    "%matplotlib inline"
   ]
  },
  {
   "cell_type": "markdown",
   "metadata": {},
   "source": [
    "Next, we will start the environment!  **_Before running the code cell below_**, change the `file_name` parameter to match the location of the Unity environment that you downloaded.\n",
    "\n",
    "- **Mac**: `\"path/to/Reacher.app\"`\n",
    "- **Windows** (x86): `\"path/to/Reacher_Windows_x86/Reacher.exe\"`\n",
    "- **Windows** (x86_64): `\"path/to/Reacher_Windows_x86_64/Reacher.exe\"`\n",
    "- **Linux** (x86): `\"path/to/Reacher_Linux/Reacher.x86\"`\n",
    "- **Linux** (x86_64): `\"path/to/Reacher_Linux/Reacher.x86_64\"`\n",
    "- **Linux** (x86, headless): `\"path/to/Reacher_Linux_NoVis/Reacher.x86\"`\n",
    "- **Linux** (x86_64, headless): `\"path/to/Reacher_Linux_NoVis/Reacher.x86_64\"`\n",
    "\n",
    "For instance, if you are using a Mac, then you downloaded `Reacher.app`.  If this file is in the same folder as the notebook, then the line below should appear as follows:\n",
    "```\n",
    "env = UnityEnvironment(file_name=\"Reacher.app\")\n",
    "```"
   ]
  },
  {
   "cell_type": "code",
   "execution_count": 2,
   "metadata": {},
   "outputs": [
    {
     "name": "stderr",
     "output_type": "stream",
     "text": [
      "INFO:unityagents:\n",
      "'Academy' started successfully!\n",
      "Unity Academy name: Academy\n",
      "        Number of Brains: 1\n",
      "        Number of External Brains : 1\n",
      "        Lesson number : 0\n",
      "        Reset Parameters :\n",
      "\t\t\n",
      "Unity brain name: TennisBrain\n",
      "        Number of Visual Observations (per agent): 0\n",
      "        Vector Observation space type: continuous\n",
      "        Vector Observation space size (per agent): 8\n",
      "        Number of stacked Vector Observation: 3\n",
      "        Vector Action space type: continuous\n",
      "        Vector Action space size (per agent): 2\n",
      "        Vector Action descriptions: , \n"
     ]
    }
   ],
   "source": [
    "## when running locally\n",
    "env = UnityEnvironment(file_name='/home/m2keyofz/Downloads/Tennis_Linux/Tennis.x86_64')\n"
   ]
  },
  {
   "cell_type": "markdown",
   "metadata": {},
   "source": [
    "Environments contain **_brains_** which are responsible for deciding the actions of their associated agents. Here we check for the first brain available, and set it as the default brain we will be controlling from Python."
   ]
  },
  {
   "cell_type": "code",
   "execution_count": 3,
   "metadata": {},
   "outputs": [],
   "source": [
    "# get the default brain\n",
    "brain_name = env.brain_names[0]\n",
    "brain = env.brains[brain_name]"
   ]
  },
  {
   "cell_type": "markdown",
   "metadata": {},
   "source": [
    "### 2. Examine the State and Action Spaces\n",
    "\n",
    "In this environment, two agents control rackets to bounce a ball over a net. If an agent hits the ball over the net, it receives a reward of +0.1.  If an agent lets a ball hit the ground or hits the ball out of bounds, it receives a reward of -0.01.  Thus, the goal of each agent is to keep the ball in play.\n",
    "\n",
    "The observation space consists of 8 variables corresponding to the position and velocity of the ball and racket. Two continuous actions are available, corresponding to movement toward (or away from) the net, and jumping. \n",
    "\n",
    "Run the code cell below to print some information about the environment."
   ]
  },
  {
   "cell_type": "code",
   "execution_count": 4,
   "metadata": {},
   "outputs": [
    {
     "name": "stdout",
     "output_type": "stream",
     "text": [
      "Number of agents: 2\n",
      "Size of each action: 2\n",
      "There are 2 agents. Each observes a state with length: 24\n",
      "The state for the first agent looks like: [ 0.          0.          0.          0.          0.          0.\n",
      "  0.          0.          0.          0.          0.          0.\n",
      "  0.          0.          0.          0.         -6.65278625 -1.5\n",
      " -0.          0.          6.83172083  6.         -0.          0.        ]\n"
     ]
    }
   ],
   "source": [
    "# reset the environment\n",
    "env_info = env.reset(train_mode=True)[brain_name]\n",
    "\n",
    "# number of agents\n",
    "num_agents = len(env_info.agents)\n",
    "print('Number of agents:', num_agents)\n",
    "\n",
    "# size of each action\n",
    "action_size = brain.vector_action_space_size\n",
    "print('Size of each action:', action_size)\n",
    "\n",
    "# examine the state space \n",
    "states = env_info.vector_observations\n",
    "state_size = states.shape[1]\n",
    "print('There are {} agents. Each observes a state with length: {}'.format(states.shape[0], state_size))\n",
    "print('The state for the first agent looks like:', states[0])"
   ]
  },
  {
   "cell_type": "markdown",
   "metadata": {},
   "source": [
    "### 3. Take Random Actions in the Environment\n",
    "\n",
    "In the next code cell, you will learn how to use the Python API to control the agent and receive feedback from the environment.\n",
    "\n",
    "Once this cell is executed, you will watch the agent's performance, if it selects an action at random with each time step.  A window should pop up that allows you to observe the agent, as it moves through the environment.  \n",
    "\n",
    "Of course, as part of the project, you'll have to change the code so that the agent is able to use its experience to gradually choose better actions when interacting with the environment!"
   ]
  },
  {
   "cell_type": "code",
   "execution_count": 5,
   "metadata": {},
   "outputs": [
    {
     "name": "stdout",
     "output_type": "stream",
     "text": [
      "Score (max over agents) from episode 1: 0.0\n",
      "Score (max over agents) from episode 2: 0.09000000171363354\n",
      "Score (max over agents) from episode 3: 0.09000000171363354\n",
      "Score (max over agents) from episode 4: 0.0\n",
      "Score (max over agents) from episode 5: 0.0\n"
     ]
    }
   ],
   "source": [
    "for i in range(1, 6):                                      # play game for 5 episodes\n",
    "    env_info = env.reset(train_mode=False)[brain_name]     # reset the environment    \n",
    "    states = env_info.vector_observations                  # get the current state (for each agent)\n",
    "    scores = np.zeros(num_agents)                          # initialize the score (for each agent)\n",
    "    while True:\n",
    "        actions = np.random.randn(num_agents, action_size) # select an action (for each agent)\n",
    "        actions = np.clip(actions, -1, 1)                  # all actions between -1 and 1\n",
    "        env_info = env.step(actions)[brain_name]           # send all actions to tne environment\n",
    "        next_states = env_info.vector_observations         # get next state (for each agent)\n",
    "        rewards = env_info.rewards                         # get reward (for each agent)\n",
    "        dones = env_info.local_done                        # see if episode finished\n",
    "        scores += env_info.rewards                         # update the score (for each agent)\n",
    "        states = next_states                               # roll over states to next time step\n",
    "        if np.any(dones):                                  # exit loop if episode finished\n",
    "            break\n",
    "    print('Score (max over agents) from episode {}: {}'.format(i, np.max(scores)))"
   ]
  },
  {
   "cell_type": "markdown",
   "metadata": {},
   "source": [
    "### 4. It's Your Turn!\n",
    "\n",
    "Now it's your turn to train your own agent to solve the environment!  When training the environment, set `train_mode=True`, so that the line for resetting the environment looks like the following:\n",
    "```python\n",
    "env_info = env.reset(train_mode=True)[brain_name]\n",
    "```"
   ]
  },
  {
   "cell_type": "code",
   "execution_count": 6,
   "metadata": {},
   "outputs": [],
   "source": [
    "C_EPISODES = 100 # consecutive episodes\n",
    "PRINT_EVERY = 10\n",
    "ADD_NOISE = True"
   ]
  },
  {
   "cell_type": "code",
   "execution_count": 7,
   "metadata": {},
   "outputs": [],
   "source": [
    "def get_actions(states, add_noise):\n",
    "    action_0 = agent_0.act(states, add_noise)\n",
    "    action_1 = agent_1.act(states, add_noise)\n",
    "    return np.concatenate((action_0, action_1), axis=0).flatten()"
   ]
  },
  {
   "cell_type": "code",
   "execution_count": 8,
   "metadata": {},
   "outputs": [],
   "source": [
    "def maddpg(n_episodes=2000, max_t=1000):\n",
    "    \"\"\"Multi-Agent Deep Deterministic Policy Gradient (MADDPG)\n",
    "    \n",
    "    Params\n",
    "    ======\n",
    "        n_episodes (int)      : maximum number of training episodes\n",
    "        max_t (int)           : maximum number of timesteps per episode\n",
    "\n",
    "    \"\"\"\n",
    "    scores_window = deque(maxlen=C_EPISODES)\n",
    "    scores_all = []\n",
    "    moving_average = []\n",
    "    best_score = -np.inf\n",
    "    best_episode = 0\n",
    "    solved = False    \n",
    "\n",
    "    for i_episode in range(1, n_episodes+1):\n",
    "        env_info = env.reset(train_mode=True)[brain_name]         # reset the environment\n",
    "        states = np.reshape(env_info.vector_observations, (1,48)) # get states and combine them\n",
    "        \n",
    "        agent_0.reset()\n",
    "        agent_1.reset()\n",
    "        \n",
    "        scores = np.zeros(num_agents)\n",
    "        while True:\n",
    "            actions = get_actions(states, ADD_NOISE)           # choose agent actions and combine them\n",
    "            env_info = env.step(actions)[brain_name]           # send both agents' actions to the env\n",
    "            next_states = np.reshape(env_info.vector_observations, (1, 48)) # combine agents' next states\n",
    "            rewards = env_info.rewards                         # get reward\n",
    "            done = env_info.local_done                         # is episode done?\n",
    "            agent_0.step(states, actions, rewards[0], next_states, done, 0) # agent 0 learns\n",
    "            agent_1.step(states, actions, rewards[1], next_states, done, 1) # agent 1 learns\n",
    "            scores += np.max(rewards)                          # update the score for each agent\n",
    "            states = next_states                               # roll over states to next time step\n",
    "            if np.any(done):                                   # exit loop if episode is done\n",
    "                break\n",
    "\n",
    "        ep_best = np.max(scores)\n",
    "        scores_window.append(ep_best)\n",
    "        scores_all.append(ep_best)\n",
    "        moving_average.append(np.mean(scores_window))\n",
    "\n",
    "        # save best score                        \n",
    "        if ep_best > best_score:\n",
    "            best_score = ep_best\n",
    "            best_episode = i_episode\n",
    "        \n",
    "        # print results\n",
    "        if i_episode % PRINT_EVERY == 0:\n",
    "            print('\\tEpisode {:0>4d}\\tMoving Average: {:.3f}'.format(i_episode, moving_average[-1]))\n",
    "\n",
    "        # check if environment is solved\n",
    "        if moving_average[-1] >= 0.5:\n",
    "            if not solved:\n",
    "                print('\\n\\tEnvironment solved in {:d} episodes! \\\n",
    "                \\n\\tMoving Average: {:.3f} (over past {:d} episodes)\\n'.format(\n",
    "                    i_episode-C_EPISODES, moving_average[-1], C_EPISODES))\n",
    "                solved = True\n",
    "                \n",
    "                # save weights\n",
    "                torch.save(agent_0.actor_local.state_dict(),  'weights/checkpoint_actor_0.pth')\n",
    "                torch.save(agent_0.critic_local.state_dict(), 'weights/checkpoint_critic_0.pth')\n",
    "                torch.save(agent_1.actor_local.state_dict(),  'weights/checkpoint_actor_1.pth')\n",
    "                torch.save(agent_1.critic_local.state_dict(), 'weights/checkpoint_critic_1.pth')\n",
    "                \n",
    "            elif ep_best >= best_score:\n",
    "                # save weights\n",
    "                torch.save(agent_0.actor_local.state_dict(),  'weights/best/checkpoint_actor_0.pth')\n",
    "                torch.save(agent_0.critic_local.state_dict(), 'weights/best/checkpoint_critic_0.pth')\n",
    "                torch.save(agent_1.actor_local.state_dict(),  'weights/best/checkpoint_actor_1.pth')\n",
    "                torch.save(agent_1.critic_local.state_dict(), 'weights/best/checkpoint_critic_1.pth')\n",
    "                \n",
    "            elif (i_episode-best_episode) >= 200:\n",
    "                # stop training if model does not converge\n",
    "                print('\\n\\tTraining stopped: best score stale for 200 episodes.')\n",
    "                break\n",
    "                \n",
    "            else:\n",
    "                continue\n",
    "            \n",
    "    return scores_all, moving_average"
   ]
  },
  {
   "cell_type": "code",
   "execution_count": 9,
   "metadata": {},
   "outputs": [],
   "source": [
    "# initialize agents\n",
    "agent_0 = Agent(state_size, action_size, num_agents=1, random_seed=0)\n",
    "agent_1 = Agent(state_size, action_size, num_agents=1, random_seed=0)"
   ]
  },
  {
   "cell_type": "markdown",
   "metadata": {},
   "source": [
    "### Train Model"
   ]
  },
  {
   "cell_type": "code",
   "execution_count": 10,
   "metadata": {},
   "outputs": [],
   "source": [
    "start = time.time()"
   ]
  },
  {
   "cell_type": "code",
   "execution_count": 11,
   "metadata": {},
   "outputs": [
    {
     "name": "stdout",
     "output_type": "stream",
     "text": [
      "\tEpisode 0010\tMoving Average: 0.000\n",
      "\tEpisode 0020\tMoving Average: 0.015\n",
      "\tEpisode 0030\tMoving Average: 0.010\n",
      "\tEpisode 0040\tMoving Average: 0.013\n",
      "\tEpisode 0050\tMoving Average: 0.010\n",
      "\tEpisode 0060\tMoving Average: 0.010\n",
      "\tEpisode 0070\tMoving Average: 0.010\n",
      "\tEpisode 0080\tMoving Average: 0.012\n",
      "\tEpisode 0090\tMoving Average: 0.013\n",
      "\tEpisode 0100\tMoving Average: 0.013\n",
      "\tEpisode 0110\tMoving Average: 0.015\n",
      "\tEpisode 0120\tMoving Average: 0.016\n",
      "\tEpisode 0130\tMoving Average: 0.017\n",
      "\tEpisode 0140\tMoving Average: 0.015\n",
      "\tEpisode 0150\tMoving Average: 0.015\n",
      "\tEpisode 0160\tMoving Average: 0.014\n",
      "\tEpisode 0170\tMoving Average: 0.013\n",
      "\tEpisode 0180\tMoving Average: 0.011\n",
      "\tEpisode 0190\tMoving Average: 0.009\n",
      "\tEpisode 0200\tMoving Average: 0.008\n",
      "\tEpisode 0210\tMoving Average: 0.009\n",
      "\tEpisode 0220\tMoving Average: 0.005\n",
      "\tEpisode 0230\tMoving Average: 0.005\n",
      "\tEpisode 0240\tMoving Average: 0.008\n",
      "\tEpisode 0250\tMoving Average: 0.010\n",
      "\tEpisode 0260\tMoving Average: 0.015\n",
      "\tEpisode 0270\tMoving Average: 0.019\n",
      "\tEpisode 0280\tMoving Average: 0.021\n",
      "\tEpisode 0290\tMoving Average: 0.024\n",
      "\tEpisode 0300\tMoving Average: 0.028\n",
      "\tEpisode 0310\tMoving Average: 0.027\n",
      "\tEpisode 0320\tMoving Average: 0.031\n",
      "\tEpisode 0330\tMoving Average: 0.035\n",
      "\tEpisode 0340\tMoving Average: 0.039\n",
      "\tEpisode 0350\tMoving Average: 0.040\n",
      "\tEpisode 0360\tMoving Average: 0.036\n",
      "\tEpisode 0370\tMoving Average: 0.038\n",
      "\tEpisode 0380\tMoving Average: 0.037\n",
      "\tEpisode 0390\tMoving Average: 0.035\n",
      "\tEpisode 0400\tMoving Average: 0.036\n",
      "\tEpisode 0410\tMoving Average: 0.047\n",
      "\tEpisode 0420\tMoving Average: 0.049\n",
      "\tEpisode 0430\tMoving Average: 0.050\n",
      "\tEpisode 0440\tMoving Average: 0.049\n",
      "\tEpisode 0450\tMoving Average: 0.058\n",
      "\tEpisode 0460\tMoving Average: 0.068\n",
      "\tEpisode 0470\tMoving Average: 0.072\n",
      "\tEpisode 0480\tMoving Average: 0.080\n",
      "\tEpisode 0490\tMoving Average: 0.090\n",
      "\tEpisode 0500\tMoving Average: 0.098\n",
      "\tEpisode 0510\tMoving Average: 0.096\n",
      "\tEpisode 0520\tMoving Average: 0.106\n",
      "\tEpisode 0530\tMoving Average: 0.117\n",
      "\tEpisode 0540\tMoving Average: 0.122\n",
      "\tEpisode 0550\tMoving Average: 0.137\n",
      "\tEpisode 0560\tMoving Average: 0.145\n",
      "\tEpisode 0570\tMoving Average: 0.165\n",
      "\tEpisode 0580\tMoving Average: 0.180\n",
      "\tEpisode 0590\tMoving Average: 0.186\n",
      "\tEpisode 0600\tMoving Average: 0.197\n",
      "\tEpisode 0610\tMoving Average: 0.209\n",
      "\tEpisode 0620\tMoving Average: 0.216\n",
      "\tEpisode 0630\tMoving Average: 0.233\n",
      "\tEpisode 0640\tMoving Average: 0.268\n",
      "\tEpisode 0650\tMoving Average: 0.295\n",
      "\tEpisode 0660\tMoving Average: 0.333\n",
      "\tEpisode 0670\tMoving Average: 0.445\n",
      "\tEpisode 0680\tMoving Average: 0.455\n",
      "\tEpisode 0690\tMoving Average: 0.502\n",
      "\n",
      "\tEnvironment solved in 590 episodes!                 \n",
      "\tMoving Average: 0.502 (over past 100 episodes)\n",
      "\n",
      "\tEpisode 0700\tMoving Average: 0.529\n",
      "\tEpisode 0710\tMoving Average: 0.565\n",
      "\tEpisode 0720\tMoving Average: 0.636\n",
      "\tEpisode 0730\tMoving Average: 0.672\n",
      "\tEpisode 0740\tMoving Average: 0.683\n",
      "\tEpisode 0750\tMoving Average: 0.764\n",
      "\tEpisode 0760\tMoving Average: 0.816\n",
      "\tEpisode 0770\tMoving Average: 0.854\n",
      "\tEpisode 0780\tMoving Average: 0.972\n",
      "\tEpisode 0790\tMoving Average: 1.000\n",
      "\tEpisode 0800\tMoving Average: 1.117\n",
      "\tEpisode 0810\tMoving Average: 1.170\n",
      "\tEpisode 0820\tMoving Average: 1.226\n",
      "\tEpisode 0830\tMoving Average: 1.270\n",
      "\tEpisode 0840\tMoving Average: 1.294\n",
      "\tEpisode 0850\tMoving Average: 1.269\n",
      "\tEpisode 0860\tMoving Average: 1.179\n",
      "\tEpisode 0870\tMoving Average: 1.012\n",
      "\tEpisode 0880\tMoving Average: 0.952\n",
      "\tEpisode 0890\tMoving Average: 0.896\n",
      "\tEpisode 0900\tMoving Average: 0.812\n",
      "\tEpisode 0910\tMoving Average: 0.735\n",
      "\tEpisode 0920\tMoving Average: 0.696\n",
      "\tEpisode 0930\tMoving Average: 0.714\n",
      "\tEpisode 0940\tMoving Average: 0.710\n",
      "\tEpisode 0950\tMoving Average: 0.776\n",
      "\tEpisode 0960\tMoving Average: 0.880\n",
      "\tEpisode 0970\tMoving Average: 0.997\n",
      "\n",
      "\tTraining stopped: best score stale for 200 episodes.\n"
     ]
    }
   ],
   "source": [
    "# run the training loop\n",
    "\n",
    "# BUFFER_SIZE = int(1e6)  # replay buffer size\n",
    "# BATCH_SIZE = 128        # minibatch size\n",
    "# LR_ACTOR = 1e-3         # learning rate of the actor\n",
    "# LR_CRITIC = 1e-3        # learning rate of the critic\n",
    "# WEIGHT_DECAY = 0        # L2 weight decay\n",
    "# LEARN_EVERY = 1         # learning timestep interval\n",
    "# LEARN_NUM = 1           # number of learning passes\n",
    "# GAMMA = 0.99            # discount factor\n",
    "# TAU = 7e-2              # for soft update of target parameters\n",
    "# OU_SIGMA = 0.2          # Ornstein-Uhlenbeck noise parameter, volatility\n",
    "# OU_THETA = 0.12         # Ornstein-Uhlenbeck noise parameter, speed of mean reversion\n",
    "# EPS_START = 5.5         # initial value for epsilon in noise decay process in Agent.act()\n",
    "# EPS_EP_END = 250        # episode to end the noise decay process\n",
    "# EPS_FINAL = 0           # final value for epsilon after decay\n",
    "\n",
    "scores, avgs = maddpg()"
   ]
  },
  {
   "cell_type": "code",
   "execution_count": 12,
   "metadata": {},
   "outputs": [
    {
     "name": "stdout",
     "output_type": "stream",
     "text": [
      "Elapsed: 9.06 mins.\n"
     ]
    }
   ],
   "source": [
    "end = time.time()\n",
    "elapsed = (end - start) / 60.0\n",
    "print(\"Elapsed: {0:3.2f} mins.\".format(elapsed))"
   ]
  },
  {
   "cell_type": "code",
   "execution_count": 13,
   "metadata": {},
   "outputs": [
    {
     "data": {
      "image/png": "[encoded data removed]",
      "text/plain": [
       "<matplotlib.figure.Figure at 0x7fe7ed377160>"
      ]
     },
     "metadata": {
      "needs_background": "light"
     },
     "output_type": "display_data"
    }
   ],
   "source": [
    "# plot the scores\n",
    "fig = plt.figure()\n",
    "ax = fig.add_subplot(111)\n",
    "plt.plot(np.arange(len(scores)), scores, label='MADDPG')\n",
    "plt.plot(np.arange(len(scores)), avgs, c='r', label='Moving AVG')\n",
    "plt.ylabel('Score')\n",
    "plt.xlabel('Episode #')\n",
    "plt.legend(loc='upper left');\n",
    "plt.show()"
   ]
  },
  {
   "cell_type": "markdown",
   "metadata": {},
   "source": [
    "### 5. Test a saved agent"
   ]
  },
  {
   "cell_type": "code",
   "execution_count": 14,
   "metadata": {},
   "outputs": [],
   "source": [
    "C_EPISODES = 10 # consecutive episodes\n",
    "PRINT_EVERY = 1\n",
    "ADD_NOISE = False"
   ]
  },
  {
   "cell_type": "code",
   "execution_count": 15,
   "metadata": {},
   "outputs": [],
   "source": [
    "## reinitialize the agents (if needed)\n",
    "agent_0 = Agent(state_size, action_size, num_agents=1, random_seed=0)\n",
    "agent_1 = Agent(state_size, action_size, num_agents=1, random_seed=0)\n",
    "\n",
    "# load the weights from file\n",
    "agent_0_weights = 'weights/best/checkpoint_actor_0.pth'\n",
    "agent_1_weights = 'weights/best/checkpoint_actor_1.pth'\n",
    "agent_0.actor_local.load_state_dict(torch.load(agent_0_weights))\n",
    "agent_1.actor_local.load_state_dict(torch.load(agent_1_weights))     "
   ]
  },
  {
   "cell_type": "code",
   "execution_count": 16,
   "metadata": {},
   "outputs": [],
   "source": [
    "def test(n_episodes=10, max_t=1000):\n",
    "\n",
    "    scores_window = deque(maxlen=C_EPISODES)\n",
    "    scores_all = []\n",
    "    moving_average = []  \n",
    "\n",
    "    for i_episode in range(1, n_episodes+1):\n",
    "        env_info = env.reset(train_mode=False)[brain_name]        # reset the environment\n",
    "        states = np.reshape(env_info.vector_observations, (1,48)) # get states and combine them\n",
    "        scores = np.zeros(num_agents)\n",
    "        while True:\n",
    "            actions = get_actions(states, ADD_NOISE)           # choose agent actions and combine them\n",
    "            env_info = env.step(actions)[brain_name]           # send both agents' actions together to the environment\n",
    "            next_states = np.reshape(env_info.vector_observations, (1, 48)) # combine the agent next states\n",
    "            rewards = env_info.rewards                         # get reward\n",
    "            done = env_info.local_done                         # see if episode finished\n",
    "            scores += np.max(rewards)                          # update the score for each agent\n",
    "            states = next_states                               # roll over states to next time step\n",
    "            if np.any(done):                                   # exit loop if episode finished\n",
    "                break\n",
    "\n",
    "        ep_best = np.max(scores)\n",
    "        scores_window.append(ep_best)\n",
    "        scores_all.append(ep_best)\n",
    "        moving_average.append(np.mean(scores_window))\n",
    "\n",
    "        # print results\n",
    "        if i_episode % PRINT_EVERY == 0:\n",
    "            print('\\tEpisode {:0>2d}\\tMax Reward: {:.3f}\\tMoving Average: {:.3f}'.format(\n",
    "                i_episode, np.max(scores_all[-PRINT_EVERY:]), moving_average[-1]))\n",
    "            \n",
    "    return scores_all, moving_average            "
   ]
  },
  {
   "cell_type": "code",
   "execution_count": 17,
   "metadata": {},
   "outputs": [
    {
     "name": "stdout",
     "output_type": "stream",
     "text": [
      "\tEpisode 01\tMax Reward: 0.400\tMoving Average: 0.400\n",
      "\tEpisode 02\tMax Reward: 5.200\tMoving Average: 2.800\n",
      "\tEpisode 03\tMax Reward: 1.000\tMoving Average: 2.200\n",
      "\tEpisode 04\tMax Reward: 0.100\tMoving Average: 1.675\n",
      "\tEpisode 05\tMax Reward: 0.700\tMoving Average: 1.480\n",
      "\tEpisode 06\tMax Reward: 0.100\tMoving Average: 1.250\n",
      "\tEpisode 07\tMax Reward: 0.100\tMoving Average: 1.086\n",
      "\tEpisode 08\tMax Reward: 3.200\tMoving Average: 1.350\n",
      "\tEpisode 09\tMax Reward: 0.300\tMoving Average: 1.233\n",
      "\tEpisode 10\tMax Reward: 0.100\tMoving Average: 1.120\n"
     ]
    }
   ],
   "source": [
    "scores, avgs = test()"
   ]
  },
  {
   "cell_type": "code",
   "execution_count": 18,
   "metadata": {},
   "outputs": [
    {
     "data": {
      "image/png": "[encoded data removed]",
      "text/plain": [
       "<matplotlib.figure.Figure at 0x7fe734e697b8>"
      ]
     },
     "metadata": {
      "needs_background": "light"
     },
     "output_type": "display_data"
    }
   ],
   "source": [
    "# plot the scores\n",
    "fig = plt.figure()\n",
    "ax = fig.add_subplot(111)\n",
    "plt.plot(np.arange(len(scores)), scores, label='MADDPG')\n",
    "plt.plot(np.arange(len(scores)), avgs, c='r', label='Moving AVG')\n",
    "plt.ylabel('Score')\n",
    "plt.xlabel('Episode #')\n",
    "plt.legend(loc='upper left');\n",
    "plt.show()"
   ]
  },
  {
   "cell_type": "markdown",
   "metadata": {},
   "source": [
    "When finished, you can close the environment."
   ]
  },
  {
   "cell_type": "code",
   "execution_count": 19,
   "metadata": {},
   "outputs": [],
   "source": [
    "env.close()"
   ]
  },
  {
   "cell_type": "code",
   "execution_count": null,
   "metadata": {},
   "outputs": [],
   "source": []
  }
 ],
 "metadata": {
  "anaconda-cloud": {},
  "kernelspec": {
   "display_name": "Python 3",
   "language": "python",
   "name": "python3"
  },
  "language_info": {
   "codemirror_mode": {
    "name": "ipython",
    "version": 3
   },
   "file_extension": ".py",
   "mimetype": "text/x-python",
   "name": "python",
   "nbconvert_exporter": "python",
   "pygments_lexer": "ipython3",
   "version": "3.6.8"
  }
 },
 "nbformat": 4,
 "nbformat_minor": 2
}
